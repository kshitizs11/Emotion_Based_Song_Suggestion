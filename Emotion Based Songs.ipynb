{
 "cells": [
  {
   "cell_type": "markdown",
   "metadata": {},
   "source": [
    "# Libraries Used"
   ]
  },
  {
   "cell_type": "code",
   "execution_count": 54,
   "metadata": {},
   "outputs": [
    {
     "name": "stderr",
     "output_type": "stream",
     "text": [
      "Using TensorFlow backend.\n"
     ]
    }
   ],
   "source": [
    "import pandas as pd\n",
    "import numpy as np\n",
    "import matplotlib.pyplot as plt\n",
    "import seaborn as sns\n",
    "import random\n",
    "\n",
    "from keras.optimizers import Adam\n",
    "from keras.layers import *\n",
    "from keras.models import Sequential\n",
    "from keras.models import load_model\n",
    "from keras.preprocessing import image\n",
    "from keras.utils import to_categorical\n",
    "from keras.callbacks import ModelCheckpoint, EarlyStopping\n",
    "\n",
    "\n",
    "from sklearn.utils import shuffle\n",
    "\n",
    "import cv2\n",
    "\n",
    "\n",
    "from keras.applications.resnet import ResNet50\n",
    "from keras.applications.resnet import preprocess_input,decode_predictions\n"
   ]
  },
  {
   "cell_type": "code",
   "execution_count": 2,
   "metadata": {},
   "outputs": [],
   "source": [
    "train = pd.read_csv(\"Data/train.csv\")\n",
    "test = pd.read_csv(\"Data/test.csv\")"
   ]
  },
  {
   "cell_type": "code",
   "execution_count": 3,
   "metadata": {},
   "outputs": [],
   "source": [
    "icml_face_data = pd.read_csv(\"Data/icml_face_data.csv\")"
   ]
  },
  {
   "cell_type": "code",
   "execution_count": 4,
   "metadata": {},
   "outputs": [
    {
     "data": {
      "text/html": [
       "<div>\n",
       "<style scoped>\n",
       "    .dataframe tbody tr th:only-of-type {\n",
       "        vertical-align: middle;\n",
       "    }\n",
       "\n",
       "    .dataframe tbody tr th {\n",
       "        vertical-align: top;\n",
       "    }\n",
       "\n",
       "    .dataframe thead th {\n",
       "        text-align: right;\n",
       "    }\n",
       "</style>\n",
       "<table border=\"1\" class=\"dataframe\">\n",
       "  <thead>\n",
       "    <tr style=\"text-align: right;\">\n",
       "      <th></th>\n",
       "      <th>emotion</th>\n",
       "      <th>pixels</th>\n",
       "    </tr>\n",
       "  </thead>\n",
       "  <tbody>\n",
       "    <tr>\n",
       "      <th>0</th>\n",
       "      <td>0</td>\n",
       "      <td>70 80 82 72 58 58 60 63 54 58 60 48 89 115 121...</td>\n",
       "    </tr>\n",
       "    <tr>\n",
       "      <th>1</th>\n",
       "      <td>0</td>\n",
       "      <td>151 150 147 155 148 133 111 140 170 174 182 15...</td>\n",
       "    </tr>\n",
       "    <tr>\n",
       "      <th>2</th>\n",
       "      <td>2</td>\n",
       "      <td>231 212 156 164 174 138 161 173 182 200 106 38...</td>\n",
       "    </tr>\n",
       "    <tr>\n",
       "      <th>3</th>\n",
       "      <td>4</td>\n",
       "      <td>24 32 36 30 32 23 19 20 30 41 21 22 32 34 21 1...</td>\n",
       "    </tr>\n",
       "    <tr>\n",
       "      <th>4</th>\n",
       "      <td>6</td>\n",
       "      <td>4 0 0 0 0 0 0 0 0 0 0 0 3 15 23 28 48 50 58 84...</td>\n",
       "    </tr>\n",
       "    <tr>\n",
       "      <th>...</th>\n",
       "      <td>...</td>\n",
       "      <td>...</td>\n",
       "    </tr>\n",
       "    <tr>\n",
       "      <th>28704</th>\n",
       "      <td>2</td>\n",
       "      <td>84 85 85 85 85 85 85 85 86 86 86 87 86 86 91 9...</td>\n",
       "    </tr>\n",
       "    <tr>\n",
       "      <th>28705</th>\n",
       "      <td>0</td>\n",
       "      <td>114 112 113 113 111 111 112 113 115 113 114 11...</td>\n",
       "    </tr>\n",
       "    <tr>\n",
       "      <th>28706</th>\n",
       "      <td>4</td>\n",
       "      <td>74 81 87 89 95 100 98 93 105 120 127 133 146 1...</td>\n",
       "    </tr>\n",
       "    <tr>\n",
       "      <th>28707</th>\n",
       "      <td>0</td>\n",
       "      <td>222 227 203 90 86 90 84 77 94 87 99 119 134 14...</td>\n",
       "    </tr>\n",
       "    <tr>\n",
       "      <th>28708</th>\n",
       "      <td>4</td>\n",
       "      <td>195 199 205 206 205 203 206 209 208 210 212 21...</td>\n",
       "    </tr>\n",
       "  </tbody>\n",
       "</table>\n",
       "<p>28709 rows × 2 columns</p>\n",
       "</div>"
      ],
      "text/plain": [
       "       emotion                                             pixels\n",
       "0            0  70 80 82 72 58 58 60 63 54 58 60 48 89 115 121...\n",
       "1            0  151 150 147 155 148 133 111 140 170 174 182 15...\n",
       "2            2  231 212 156 164 174 138 161 173 182 200 106 38...\n",
       "3            4  24 32 36 30 32 23 19 20 30 41 21 22 32 34 21 1...\n",
       "4            6  4 0 0 0 0 0 0 0 0 0 0 0 3 15 23 28 48 50 58 84...\n",
       "...        ...                                                ...\n",
       "28704        2  84 85 85 85 85 85 85 85 86 86 86 87 86 86 91 9...\n",
       "28705        0  114 112 113 113 111 111 112 113 115 113 114 11...\n",
       "28706        4  74 81 87 89 95 100 98 93 105 120 127 133 146 1...\n",
       "28707        0  222 227 203 90 86 90 84 77 94 87 99 119 134 14...\n",
       "28708        4  195 199 205 206 205 203 206 209 208 210 212 21...\n",
       "\n",
       "[28709 rows x 2 columns]"
      ]
     },
     "execution_count": 4,
     "metadata": {},
     "output_type": "execute_result"
    }
   ],
   "source": [
    "train"
   ]
  },
  {
   "cell_type": "code",
   "execution_count": 5,
   "metadata": {},
   "outputs": [
    {
     "data": {
      "text/html": [
       "<div>\n",
       "<style scoped>\n",
       "    .dataframe tbody tr th:only-of-type {\n",
       "        vertical-align: middle;\n",
       "    }\n",
       "\n",
       "    .dataframe tbody tr th {\n",
       "        vertical-align: top;\n",
       "    }\n",
       "\n",
       "    .dataframe thead th {\n",
       "        text-align: right;\n",
       "    }\n",
       "</style>\n",
       "<table border=\"1\" class=\"dataframe\">\n",
       "  <thead>\n",
       "    <tr style=\"text-align: right;\">\n",
       "      <th></th>\n",
       "      <th>pixels</th>\n",
       "    </tr>\n",
       "  </thead>\n",
       "  <tbody>\n",
       "    <tr>\n",
       "      <th>0</th>\n",
       "      <td>254 254 254 254 254 249 255 160 2 58 53 70 77 ...</td>\n",
       "    </tr>\n",
       "    <tr>\n",
       "      <th>1</th>\n",
       "      <td>156 184 198 202 204 207 210 212 213 214 215 21...</td>\n",
       "    </tr>\n",
       "    <tr>\n",
       "      <th>2</th>\n",
       "      <td>69 118 61 60 96 121 103 87 103 88 70 90 115 12...</td>\n",
       "    </tr>\n",
       "    <tr>\n",
       "      <th>3</th>\n",
       "      <td>205 203 236 157 83 158 120 116 94 86 155 180 2...</td>\n",
       "    </tr>\n",
       "    <tr>\n",
       "      <th>4</th>\n",
       "      <td>87 79 74 66 74 96 77 80 80 84 83 89 102 91 84 ...</td>\n",
       "    </tr>\n",
       "    <tr>\n",
       "      <th>...</th>\n",
       "      <td>...</td>\n",
       "    </tr>\n",
       "    <tr>\n",
       "      <th>7173</th>\n",
       "      <td>50 36 17 22 23 29 33 39 34 37 37 37 39 43 48 5...</td>\n",
       "    </tr>\n",
       "    <tr>\n",
       "      <th>7174</th>\n",
       "      <td>178 174 172 173 181 188 191 194 196 199 200 20...</td>\n",
       "    </tr>\n",
       "    <tr>\n",
       "      <th>7175</th>\n",
       "      <td>17 17 16 23 28 22 19 17 25 26 20 24 31 19 27 9...</td>\n",
       "    </tr>\n",
       "    <tr>\n",
       "      <th>7176</th>\n",
       "      <td>30 28 28 29 31 30 42 68 79 81 77 67 67 71 63 6...</td>\n",
       "    </tr>\n",
       "    <tr>\n",
       "      <th>7177</th>\n",
       "      <td>19 13 14 12 13 16 21 33 50 57 71 84 97 108 122...</td>\n",
       "    </tr>\n",
       "  </tbody>\n",
       "</table>\n",
       "<p>7178 rows × 1 columns</p>\n",
       "</div>"
      ],
      "text/plain": [
       "                                                 pixels\n",
       "0     254 254 254 254 254 249 255 160 2 58 53 70 77 ...\n",
       "1     156 184 198 202 204 207 210 212 213 214 215 21...\n",
       "2     69 118 61 60 96 121 103 87 103 88 70 90 115 12...\n",
       "3     205 203 236 157 83 158 120 116 94 86 155 180 2...\n",
       "4     87 79 74 66 74 96 77 80 80 84 83 89 102 91 84 ...\n",
       "...                                                 ...\n",
       "7173  50 36 17 22 23 29 33 39 34 37 37 37 39 43 48 5...\n",
       "7174  178 174 172 173 181 188 191 194 196 199 200 20...\n",
       "7175  17 17 16 23 28 22 19 17 25 26 20 24 31 19 27 9...\n",
       "7176  30 28 28 29 31 30 42 68 79 81 77 67 67 71 63 6...\n",
       "7177  19 13 14 12 13 16 21 33 50 57 71 84 97 108 122...\n",
       "\n",
       "[7178 rows x 1 columns]"
      ]
     },
     "execution_count": 5,
     "metadata": {},
     "output_type": "execute_result"
    }
   ],
   "source": [
    "test"
   ]
  },
  {
   "cell_type": "code",
   "execution_count": 6,
   "metadata": {},
   "outputs": [
    {
     "data": {
      "text/html": [
       "<div>\n",
       "<style scoped>\n",
       "    .dataframe tbody tr th:only-of-type {\n",
       "        vertical-align: middle;\n",
       "    }\n",
       "\n",
       "    .dataframe tbody tr th {\n",
       "        vertical-align: top;\n",
       "    }\n",
       "\n",
       "    .dataframe thead th {\n",
       "        text-align: right;\n",
       "    }\n",
       "</style>\n",
       "<table border=\"1\" class=\"dataframe\">\n",
       "  <thead>\n",
       "    <tr style=\"text-align: right;\">\n",
       "      <th></th>\n",
       "      <th>emotion</th>\n",
       "      <th>Usage</th>\n",
       "      <th>pixels</th>\n",
       "    </tr>\n",
       "  </thead>\n",
       "  <tbody>\n",
       "    <tr>\n",
       "      <th>0</th>\n",
       "      <td>0</td>\n",
       "      <td>Training</td>\n",
       "      <td>70 80 82 72 58 58 60 63 54 58 60 48 89 115 121...</td>\n",
       "    </tr>\n",
       "    <tr>\n",
       "      <th>1</th>\n",
       "      <td>0</td>\n",
       "      <td>Training</td>\n",
       "      <td>151 150 147 155 148 133 111 140 170 174 182 15...</td>\n",
       "    </tr>\n",
       "    <tr>\n",
       "      <th>2</th>\n",
       "      <td>2</td>\n",
       "      <td>Training</td>\n",
       "      <td>231 212 156 164 174 138 161 173 182 200 106 38...</td>\n",
       "    </tr>\n",
       "    <tr>\n",
       "      <th>3</th>\n",
       "      <td>4</td>\n",
       "      <td>Training</td>\n",
       "      <td>24 32 36 30 32 23 19 20 30 41 21 22 32 34 21 1...</td>\n",
       "    </tr>\n",
       "    <tr>\n",
       "      <th>4</th>\n",
       "      <td>6</td>\n",
       "      <td>Training</td>\n",
       "      <td>4 0 0 0 0 0 0 0 0 0 0 0 3 15 23 28 48 50 58 84...</td>\n",
       "    </tr>\n",
       "    <tr>\n",
       "      <th>...</th>\n",
       "      <td>...</td>\n",
       "      <td>...</td>\n",
       "      <td>...</td>\n",
       "    </tr>\n",
       "    <tr>\n",
       "      <th>35882</th>\n",
       "      <td>6</td>\n",
       "      <td>PrivateTest</td>\n",
       "      <td>50 36 17 22 23 29 33 39 34 37 37 37 39 43 48 5...</td>\n",
       "    </tr>\n",
       "    <tr>\n",
       "      <th>35883</th>\n",
       "      <td>3</td>\n",
       "      <td>PrivateTest</td>\n",
       "      <td>178 174 172 173 181 188 191 194 196 199 200 20...</td>\n",
       "    </tr>\n",
       "    <tr>\n",
       "      <th>35884</th>\n",
       "      <td>0</td>\n",
       "      <td>PrivateTest</td>\n",
       "      <td>17 17 16 23 28 22 19 17 25 26 20 24 31 19 27 9...</td>\n",
       "    </tr>\n",
       "    <tr>\n",
       "      <th>35885</th>\n",
       "      <td>3</td>\n",
       "      <td>PrivateTest</td>\n",
       "      <td>30 28 28 29 31 30 42 68 79 81 77 67 67 71 63 6...</td>\n",
       "    </tr>\n",
       "    <tr>\n",
       "      <th>35886</th>\n",
       "      <td>2</td>\n",
       "      <td>PrivateTest</td>\n",
       "      <td>19 13 14 12 13 16 21 33 50 57 71 84 97 108 122...</td>\n",
       "    </tr>\n",
       "  </tbody>\n",
       "</table>\n",
       "<p>35887 rows × 3 columns</p>\n",
       "</div>"
      ],
      "text/plain": [
       "       emotion        Usage                                             pixels\n",
       "0            0     Training  70 80 82 72 58 58 60 63 54 58 60 48 89 115 121...\n",
       "1            0     Training  151 150 147 155 148 133 111 140 170 174 182 15...\n",
       "2            2     Training  231 212 156 164 174 138 161 173 182 200 106 38...\n",
       "3            4     Training  24 32 36 30 32 23 19 20 30 41 21 22 32 34 21 1...\n",
       "4            6     Training  4 0 0 0 0 0 0 0 0 0 0 0 3 15 23 28 48 50 58 84...\n",
       "...        ...          ...                                                ...\n",
       "35882        6  PrivateTest  50 36 17 22 23 29 33 39 34 37 37 37 39 43 48 5...\n",
       "35883        3  PrivateTest  178 174 172 173 181 188 191 194 196 199 200 20...\n",
       "35884        0  PrivateTest  17 17 16 23 28 22 19 17 25 26 20 24 31 19 27 9...\n",
       "35885        3  PrivateTest  30 28 28 29 31 30 42 68 79 81 77 67 67 71 63 6...\n",
       "35886        2  PrivateTest  19 13 14 12 13 16 21 33 50 57 71 84 97 108 122...\n",
       "\n",
       "[35887 rows x 3 columns]"
      ]
     },
     "execution_count": 6,
     "metadata": {},
     "output_type": "execute_result"
    }
   ],
   "source": [
    "icml_face_data"
   ]
  },
  {
   "cell_type": "code",
   "execution_count": 7,
   "metadata": {},
   "outputs": [
    {
     "data": {
      "text/plain": [
       "Training       28709\n",
       "PrivateTest     3589\n",
       "PublicTest      3589\n",
       "Name:  Usage, dtype: int64"
      ]
     },
     "execution_count": 7,
     "metadata": {},
     "output_type": "execute_result"
    }
   ],
   "source": [
    "icml_face_data[\" Usage\"].value_counts()"
   ]
  },
  {
   "cell_type": "code",
   "execution_count": 8,
   "metadata": {},
   "outputs": [],
   "source": [
    "train_extra = icml_face_data[icml_face_data[\" Usage\"]==\"Training\"]\n",
    "test_extra = icml_face_data[icml_face_data[' Usage']=='PublicTest']"
   ]
  },
  {
   "cell_type": "code",
   "execution_count": 9,
   "metadata": {},
   "outputs": [
    {
     "data": {
      "text/html": [
       "<div>\n",
       "<style scoped>\n",
       "    .dataframe tbody tr th:only-of-type {\n",
       "        vertical-align: middle;\n",
       "    }\n",
       "\n",
       "    .dataframe tbody tr th {\n",
       "        vertical-align: top;\n",
       "    }\n",
       "\n",
       "    .dataframe thead th {\n",
       "        text-align: right;\n",
       "    }\n",
       "</style>\n",
       "<table border=\"1\" class=\"dataframe\">\n",
       "  <thead>\n",
       "    <tr style=\"text-align: right;\">\n",
       "      <th></th>\n",
       "      <th>emotion</th>\n",
       "      <th>Usage</th>\n",
       "      <th>pixels</th>\n",
       "    </tr>\n",
       "  </thead>\n",
       "  <tbody>\n",
       "    <tr>\n",
       "      <th>0</th>\n",
       "      <td>0</td>\n",
       "      <td>Training</td>\n",
       "      <td>70 80 82 72 58 58 60 63 54 58 60 48 89 115 121...</td>\n",
       "    </tr>\n",
       "    <tr>\n",
       "      <th>1</th>\n",
       "      <td>0</td>\n",
       "      <td>Training</td>\n",
       "      <td>151 150 147 155 148 133 111 140 170 174 182 15...</td>\n",
       "    </tr>\n",
       "    <tr>\n",
       "      <th>2</th>\n",
       "      <td>2</td>\n",
       "      <td>Training</td>\n",
       "      <td>231 212 156 164 174 138 161 173 182 200 106 38...</td>\n",
       "    </tr>\n",
       "    <tr>\n",
       "      <th>3</th>\n",
       "      <td>4</td>\n",
       "      <td>Training</td>\n",
       "      <td>24 32 36 30 32 23 19 20 30 41 21 22 32 34 21 1...</td>\n",
       "    </tr>\n",
       "    <tr>\n",
       "      <th>4</th>\n",
       "      <td>6</td>\n",
       "      <td>Training</td>\n",
       "      <td>4 0 0 0 0 0 0 0 0 0 0 0 3 15 23 28 48 50 58 84...</td>\n",
       "    </tr>\n",
       "    <tr>\n",
       "      <th>...</th>\n",
       "      <td>...</td>\n",
       "      <td>...</td>\n",
       "      <td>...</td>\n",
       "    </tr>\n",
       "    <tr>\n",
       "      <th>28704</th>\n",
       "      <td>2</td>\n",
       "      <td>Training</td>\n",
       "      <td>84 85 85 85 85 85 85 85 86 86 86 87 86 86 91 9...</td>\n",
       "    </tr>\n",
       "    <tr>\n",
       "      <th>28705</th>\n",
       "      <td>0</td>\n",
       "      <td>Training</td>\n",
       "      <td>114 112 113 113 111 111 112 113 115 113 114 11...</td>\n",
       "    </tr>\n",
       "    <tr>\n",
       "      <th>28706</th>\n",
       "      <td>4</td>\n",
       "      <td>Training</td>\n",
       "      <td>74 81 87 89 95 100 98 93 105 120 127 133 146 1...</td>\n",
       "    </tr>\n",
       "    <tr>\n",
       "      <th>28707</th>\n",
       "      <td>0</td>\n",
       "      <td>Training</td>\n",
       "      <td>222 227 203 90 86 90 84 77 94 87 99 119 134 14...</td>\n",
       "    </tr>\n",
       "    <tr>\n",
       "      <th>28708</th>\n",
       "      <td>4</td>\n",
       "      <td>Training</td>\n",
       "      <td>195 199 205 206 205 203 206 209 208 210 212 21...</td>\n",
       "    </tr>\n",
       "  </tbody>\n",
       "</table>\n",
       "<p>28709 rows × 3 columns</p>\n",
       "</div>"
      ],
      "text/plain": [
       "       emotion     Usage                                             pixels\n",
       "0            0  Training  70 80 82 72 58 58 60 63 54 58 60 48 89 115 121...\n",
       "1            0  Training  151 150 147 155 148 133 111 140 170 174 182 15...\n",
       "2            2  Training  231 212 156 164 174 138 161 173 182 200 106 38...\n",
       "3            4  Training  24 32 36 30 32 23 19 20 30 41 21 22 32 34 21 1...\n",
       "4            6  Training  4 0 0 0 0 0 0 0 0 0 0 0 3 15 23 28 48 50 58 84...\n",
       "...        ...       ...                                                ...\n",
       "28704        2  Training  84 85 85 85 85 85 85 85 86 86 86 87 86 86 91 9...\n",
       "28705        0  Training  114 112 113 113 111 111 112 113 115 113 114 11...\n",
       "28706        4  Training  74 81 87 89 95 100 98 93 105 120 127 133 146 1...\n",
       "28707        0  Training  222 227 203 90 86 90 84 77 94 87 99 119 134 14...\n",
       "28708        4  Training  195 199 205 206 205 203 206 209 208 210 212 21...\n",
       "\n",
       "[28709 rows x 3 columns]"
      ]
     },
     "execution_count": 9,
     "metadata": {},
     "output_type": "execute_result"
    }
   ],
   "source": [
    "train_extra"
   ]
  },
  {
   "cell_type": "code",
   "execution_count": 10,
   "metadata": {},
   "outputs": [],
   "source": [
    "y_train_extra = train_extra[\"emotion\"]\n",
    "x_train_extra = train_extra[\" pixels\"]\n",
    "y_test = test_extra[\"emotion\"]\n"
   ]
  },
  {
   "cell_type": "code",
   "execution_count": 11,
   "metadata": {},
   "outputs": [],
   "source": [
    "x_test = test_extra[\" pixels\"]"
   ]
  },
  {
   "cell_type": "code",
   "execution_count": 12,
   "metadata": {},
   "outputs": [
    {
     "data": {
      "text/plain": [
       "((28709,), (28709,), (3589,), (3589,))"
      ]
     },
     "execution_count": 12,
     "metadata": {},
     "output_type": "execute_result"
    }
   ],
   "source": [
    "x_train_extra.shape,y_train_extra.shape,x_test.shape,y_test.shape"
   ]
  },
  {
   "cell_type": "code",
   "execution_count": 13,
   "metadata": {},
   "outputs": [
    {
     "data": {
      "text/plain": [
       "0        0\n",
       "1        0\n",
       "2        2\n",
       "3        4\n",
       "4        6\n",
       "        ..\n",
       "28704    2\n",
       "28705    0\n",
       "28706    4\n",
       "28707    0\n",
       "28708    4\n",
       "Name: emotion, Length: 28709, dtype: int64"
      ]
     },
     "execution_count": 13,
     "metadata": {},
     "output_type": "execute_result"
    }
   ],
   "source": [
    "y_train_extra"
   ]
  },
  {
   "cell_type": "code",
   "execution_count": 14,
   "metadata": {},
   "outputs": [
    {
     "data": {
      "text/plain": [
       "emotion    0\n",
       "pixels     0\n",
       "dtype: int64"
      ]
     },
     "execution_count": 14,
     "metadata": {},
     "output_type": "execute_result"
    }
   ],
   "source": [
    "train.isnull().sum()"
   ]
  },
  {
   "cell_type": "markdown",
   "metadata": {},
   "source": [
    "# Emotion Graph"
   ]
  },
  {
   "cell_type": "code",
   "execution_count": 14,
   "metadata": {},
   "outputs": [
    {
     "data": {
      "image/png": "[encoded data removed]",
      "text/plain": [
       "<Figure size 1440x720 with 1 Axes>"
      ]
     },
     "metadata": {
      "needs_background": "light"
     },
     "output_type": "display_data"
    }
   ],
   "source": [
    "Each_Emotion_Counts = train[\"emotion\"].value_counts()\n",
    "plt.figure(figsize=(20,10))\n",
    "sns.barplot(Each_Emotion_Counts.index,Each_Emotion_Counts.values)\n",
    "plt.show()"
   ]
  },
  {
   "cell_type": "code",
   "execution_count": 15,
   "metadata": {},
   "outputs": [],
   "source": [
    "Number_to_emotion = {0 :'Angry 😡', 1 : 'Disgust 🤢', 2:'Fear 😰', 3 :'Happy 🤣', 4:'Sad 😭', 5:'Surprise 😱', 6:'Neutral 🙂'}"
   ]
  },
  {
   "cell_type": "code",
   "execution_count": 16,
   "metadata": {},
   "outputs": [
    {
     "data": {
      "text/plain": [
       "0        70 80 82 72 58 58 60 63 54 58 60 48 89 115 121...\n",
       "1        151 150 147 155 148 133 111 140 170 174 182 15...\n",
       "2        231 212 156 164 174 138 161 173 182 200 106 38...\n",
       "3        24 32 36 30 32 23 19 20 30 41 21 22 32 34 21 1...\n",
       "4        4 0 0 0 0 0 0 0 0 0 0 0 3 15 23 28 48 50 58 84...\n",
       "                               ...                        \n",
       "28704    84 85 85 85 85 85 85 85 86 86 86 87 86 86 91 9...\n",
       "28705    114 112 113 113 111 111 112 113 115 113 114 11...\n",
       "28706    74 81 87 89 95 100 98 93 105 120 127 133 146 1...\n",
       "28707    222 227 203 90 86 90 84 77 94 87 99 119 134 14...\n",
       "28708    195 199 205 206 205 203 206 209 208 210 212 21...\n",
       "Name:  pixels, Length: 28709, dtype: object"
      ]
     },
     "execution_count": 16,
     "metadata": {},
     "output_type": "execute_result"
    }
   ],
   "source": [
    "x_train_extra"
   ]
  },
  {
   "cell_type": "code",
   "execution_count": 17,
   "metadata": {},
   "outputs": [
    {
     "data": {
      "text/plain": [
       "(3589,)"
      ]
     },
     "execution_count": 17,
     "metadata": {},
     "output_type": "execute_result"
    }
   ],
   "source": [
    "x_test.shape"
   ]
  },
  {
   "cell_type": "code",
   "execution_count": 18,
   "metadata": {},
   "outputs": [],
   "source": [
    "x_train = train[\"pixels\"].apply(lambda x: np.array(x.split(),dtype=\"float32\"))\n",
    "# x_train_extra = x_train_extra[\"pixels\"].apply(lambda x: np.arraay(x.split(),dtype=\"float32\"))\n",
    "\n",
    "x_test = x_test.apply(lambda x: np.array(x.split(),dtype=\"float32\"))\n"
   ]
  },
  {
   "cell_type": "code",
   "execution_count": 19,
   "metadata": {},
   "outputs": [
    {
     "data": {
      "text/plain": [
       "0        [70.0, 80.0, 82.0, 72.0, 58.0, 58.0, 60.0, 63....\n",
       "1        [151.0, 150.0, 147.0, 155.0, 148.0, 133.0, 111...\n",
       "2        [231.0, 212.0, 156.0, 164.0, 174.0, 138.0, 161...\n",
       "3        [24.0, 32.0, 36.0, 30.0, 32.0, 23.0, 19.0, 20....\n",
       "4        [4.0, 0.0, 0.0, 0.0, 0.0, 0.0, 0.0, 0.0, 0.0, ...\n",
       "                               ...                        \n",
       "28704    [84.0, 85.0, 85.0, 85.0, 85.0, 85.0, 85.0, 85....\n",
       "28705    [114.0, 112.0, 113.0, 113.0, 111.0, 111.0, 112...\n",
       "28706    [74.0, 81.0, 87.0, 89.0, 95.0, 100.0, 98.0, 93...\n",
       "28707    [222.0, 227.0, 203.0, 90.0, 86.0, 90.0, 84.0, ...\n",
       "28708    [195.0, 199.0, 205.0, 206.0, 205.0, 203.0, 206...\n",
       "Name: pixels, Length: 28709, dtype: object"
      ]
     },
     "execution_count": 19,
     "metadata": {},
     "output_type": "execute_result"
    }
   ],
   "source": [
    "x_train"
   ]
  },
  {
   "cell_type": "code",
   "execution_count": 20,
   "metadata": {},
   "outputs": [],
   "source": [
    "x_train = x_train/255\n",
    "x_test = x_test/255"
   ]
  },
  {
   "cell_type": "code",
   "execution_count": 21,
   "metadata": {},
   "outputs": [],
   "source": [
    "x_train = np.array(x_train)\n",
    "x_test = np.array(x_test)\n",
    "y_train = np.array(train[\"emotion\"])\n",
    "y_test = np.array(y_test)"
   ]
  },
  {
   "cell_type": "code",
   "execution_count": 22,
   "metadata": {},
   "outputs": [],
   "source": [
    "X_train = []\n",
    "for i in range(x_train.shape[0]):\n",
    "    X_train.append(x_train[i].reshape(48,48,1))\n",
    "x_train = np.array(X_train)\n",
    "\n",
    "\n",
    "X_test= []\n",
    "for j in range(x_test.shape[0]):\n",
    "    X_test.append(x_test[j].reshape(48,48,1))\n",
    "x_test = np.array(X_test)"
   ]
  },
  {
   "cell_type": "code",
   "execution_count": 23,
   "metadata": {},
   "outputs": [
    {
     "data": {
      "text/plain": [
       "((28709, 48, 48, 1), (3589, 48, 48, 1), (28709,), (3589,))"
      ]
     },
     "execution_count": 23,
     "metadata": {},
     "output_type": "execute_result"
    }
   ],
   "source": [
    "x_train.shape,x_test.shape,y_train.shape,y_test.shape"
   ]
  },
  {
   "cell_type": "markdown",
   "metadata": {},
   "source": [
    "\n",
    "# Visualising Images"
   ]
  },
  {
   "cell_type": "code",
   "execution_count": 24,
   "metadata": {},
   "outputs": [
    {
     "data": {
      "text/plain": [
       "<Figure size 432x288 with 0 Axes>"
      ]
     },
     "metadata": {},
     "output_type": "display_data"
    }
   ],
   "source": [
    "plt.set_cmap(\"gray\")"
   ]
  },
  {
   "cell_type": "code",
   "execution_count": 25,
   "metadata": {},
   "outputs": [
    {
     "data": {
      "image/png": "[encoded data removed]",
      "text/plain": [
       "<Figure size 1008x720 with 20 Axes>"
      ]
     },
     "metadata": {
      "needs_background": "light"
     },
     "output_type": "display_data"
    }
   ],
   "source": [
    "w = 10\n",
    "h = 10\n",
    "fig = plt.figure(figsize=(14,10))\n",
    "columns = 4\n",
    "rows = 5\n",
    "for i in range(1,columns*rows+1):\n",
    "    img = x_train[i+3].reshape(48,48)\n",
    "    fig.add_subplot(rows,columns,i)\n",
    "    plt.imshow(img)\n",
    "    plt.axis(\"off\")\n",
    "plt.show()"
   ]
  },
  {
   "cell_type": "markdown",
   "metadata": {},
   "source": [
    "# To Categorical"
   ]
  },
  {
   "cell_type": "code",
   "execution_count": 25,
   "metadata": {},
   "outputs": [],
   "source": [
    "y_train = to_categorical(y_train)\n",
    "y_test = to_categorical(y_test)"
   ]
  },
  {
   "cell_type": "code",
   "execution_count": 26,
   "metadata": {},
   "outputs": [
    {
     "name": "stdout",
     "output_type": "stream",
     "text": [
      "(28709, 48, 48, 1) (28709, 7)\n",
      "(3589, 48, 48, 1) (3589, 7)\n"
     ]
    }
   ],
   "source": [
    "print(x_train.shape,y_train.shape)\n",
    "print(x_test.shape,y_test.shape)"
   ]
  },
  {
   "cell_type": "markdown",
   "metadata": {},
   "source": [
    "# Own Model Building"
   ]
  },
  {
   "cell_type": "code",
   "execution_count": 27,
   "metadata": {},
   "outputs": [],
   "source": [
    "model = Sequential()\n",
    "\n",
    "model.add(Conv2D(64,(3,3),activation=\"relu\",input_shape=(48,48,1)))\n",
    "model.add(Conv2D(filters=64,kernel_size=(3,3),activation=\"relu\"))\n",
    "\n",
    "model.add(MaxPooling2D(pool_size=(2,2)))\n",
    "model.add(Dropout(0.1))\n",
    "\n",
    "model.add(Conv2D(128,(3,3),activation=\"relu\"))\n",
    "model.add(MaxPool2D(2,2))\n",
    "model.add(Dropout(0.2))\n",
    "\n",
    "model.add(Conv2D(128,(3,3),activation=\"relu\"))\n",
    "model.add(Conv2D(128,(3,3),activation=\"relu\"))\n",
    "model.add(MaxPool2D(2,2))\n",
    "model.add(Dropout(0.2))\n",
    "\n",
    "model.add(Flatten())\n",
    "\n",
    "model.add(Dense(64,activation=\"relu\"))\n",
    "model.add(Dense(32,activation=\"relu\"))\n",
    "model.add(Dropout(0.2))\n",
    "\n",
    "model.add(Dense(7,activation=\"softmax\"))"
   ]
  },
  {
   "cell_type": "code",
   "execution_count": 28,
   "metadata": {},
   "outputs": [
    {
     "name": "stdout",
     "output_type": "stream",
     "text": [
      "Model: \"sequential_1\"\n",
      "_________________________________________________________________\n",
      "Layer (type)                 Output Shape              Param #   \n",
      "=================================================================\n",
      "conv2d_1 (Conv2D)            (None, 46, 46, 64)        640       \n",
      "_________________________________________________________________\n",
      "conv2d_2 (Conv2D)            (None, 44, 44, 64)        36928     \n",
      "_________________________________________________________________\n",
      "max_pooling2d_1 (MaxPooling2 (None, 22, 22, 64)        0         \n",
      "_________________________________________________________________\n",
      "dropout_1 (Dropout)          (None, 22, 22, 64)        0         \n",
      "_________________________________________________________________\n",
      "conv2d_3 (Conv2D)            (None, 20, 20, 128)       73856     \n",
      "_________________________________________________________________\n",
      "max_pooling2d_2 (MaxPooling2 (None, 10, 10, 128)       0         \n",
      "_________________________________________________________________\n",
      "dropout_2 (Dropout)          (None, 10, 10, 128)       0         \n",
      "_________________________________________________________________\n",
      "conv2d_4 (Conv2D)            (None, 8, 8, 128)         147584    \n",
      "_________________________________________________________________\n",
      "conv2d_5 (Conv2D)            (None, 6, 6, 128)         147584    \n",
      "_________________________________________________________________\n",
      "max_pooling2d_3 (MaxPooling2 (None, 3, 3, 128)         0         \n",
      "_________________________________________________________________\n",
      "dropout_3 (Dropout)          (None, 3, 3, 128)         0         \n",
      "_________________________________________________________________\n",
      "flatten_1 (Flatten)          (None, 1152)              0         \n",
      "_________________________________________________________________\n",
      "dense_1 (Dense)              (None, 64)                73792     \n",
      "_________________________________________________________________\n",
      "dense_2 (Dense)              (None, 32)                2080      \n",
      "_________________________________________________________________\n",
      "dropout_4 (Dropout)          (None, 32)                0         \n",
      "_________________________________________________________________\n",
      "dense_3 (Dense)              (None, 7)                 231       \n",
      "=================================================================\n",
      "Total params: 482,695\n",
      "Trainable params: 482,695\n",
      "Non-trainable params: 0\n",
      "_________________________________________________________________\n"
     ]
    }
   ],
   "source": [
    "model.summary()"
   ]
  },
  {
   "cell_type": "code",
   "execution_count": 29,
   "metadata": {},
   "outputs": [],
   "source": [
    "model.compile(loss=\"categorical_crossentropy\",optimizer=\"adam\",metrics=[\"accuracy\"])"
   ]
  },
  {
   "cell_type": "code",
   "execution_count": 30,
   "metadata": {},
   "outputs": [],
   "source": [
    "checkpoint = ModelCheckpoint(\"./best_model.h5\",monitor=\"val_accuracy\",mode=\"auto\",save_best_only=True,verbose=1)\n",
    "earlystop = EarlyStopping(monitor=\"val_accuracy\",min_delta=0.01,patience=3,verbose=1,restore_best_weights=True)\n",
    "callback = [checkpoint,earlystop]"
   ]
  },
  {
   "cell_type": "code",
   "execution_count": 32,
   "metadata": {},
   "outputs": [
    {
     "name": "stdout",
     "output_type": "stream",
     "text": [
      "Train on 27273 samples, validate on 1436 samples\n",
      "Epoch 1/20\n",
      "27273/27273 [==============================] - 321s 12ms/step - loss: 1.7182 - accuracy: 0.3031 - val_loss: 1.5754 - val_accuracy: 0.3642\n",
      "\n",
      "Epoch 00001: val_accuracy improved from 0.25165 to 0.36421, saving model to ./best_model.h5\n",
      "Epoch 2/20\n",
      "27273/27273 [==============================] - 322s 12ms/step - loss: 1.5173 - accuracy: 0.4079 - val_loss: 1.4320 - val_accuracy: 0.4262\n",
      "\n",
      "Epoch 00002: val_accuracy improved from 0.36421 to 0.42618, saving model to ./best_model.h5\n",
      "Epoch 3/20\n",
      "27273/27273 [==============================] - 323s 12ms/step - loss: 1.3740 - accuracy: 0.4698 - val_loss: 1.2828 - val_accuracy: 0.5084\n",
      "\n",
      "Epoch 00003: val_accuracy improved from 0.42618 to 0.50836, saving model to ./best_model.h5\n",
      "Epoch 4/20\n",
      "27273/27273 [==============================] - 326s 12ms/step - loss: 1.2994 - accuracy: 0.5010 - val_loss: 1.2342 - val_accuracy: 0.5286\n",
      "\n",
      "Epoch 00004: val_accuracy improved from 0.50836 to 0.52855, saving model to ./best_model.h5\n",
      "Epoch 5/20\n",
      "27273/27273 [==============================] - 283s 10ms/step - loss: 1.2412 - accuracy: 0.5261 - val_loss: 1.1908 - val_accuracy: 0.5411\n",
      "\n",
      "Epoch 00005: val_accuracy improved from 0.52855 to 0.54109, saving model to ./best_model.h5\n",
      "Epoch 6/20\n",
      "27273/27273 [==============================] - 263s 10ms/step - loss: 1.2047 - accuracy: 0.5421 - val_loss: 1.1443 - val_accuracy: 0.5599\n",
      "\n",
      "Epoch 00006: val_accuracy improved from 0.54109 to 0.55989, saving model to ./best_model.h5\n",
      "Epoch 7/20\n",
      "27273/27273 [==============================] - 291s 11ms/step - loss: 1.1578 - accuracy: 0.5648 - val_loss: 1.1237 - val_accuracy: 0.5710\n",
      "\n",
      "Epoch 00007: val_accuracy improved from 0.55989 to 0.57103, saving model to ./best_model.h5\n",
      "Epoch 8/20\n",
      "27273/27273 [==============================] - 241s 9ms/step - loss: 1.1222 - accuracy: 0.5767 - val_loss: 1.1009 - val_accuracy: 0.5864\n",
      "\n",
      "Epoch 00008: val_accuracy improved from 0.57103 to 0.58635, saving model to ./best_model.h5\n",
      "Epoch 9/20\n",
      "27273/27273 [==============================] - 237s 9ms/step - loss: 1.0813 - accuracy: 0.5955 - val_loss: 1.0908 - val_accuracy: 0.5926\n",
      "\n",
      "Epoch 00009: val_accuracy improved from 0.58635 to 0.59262, saving model to ./best_model.h5\n",
      "Epoch 10/20\n",
      "27273/27273 [==============================] - 233s 9ms/step - loss: 1.0489 - accuracy: 0.6051 - val_loss: 1.0725 - val_accuracy: 0.5870\n",
      "\n",
      "Epoch 00010: val_accuracy did not improve from 0.59262\n",
      "Epoch 11/20\n",
      "27273/27273 [==============================] - 246s 9ms/step - loss: 1.0152 - accuracy: 0.6197 - val_loss: 1.0536 - val_accuracy: 0.6003\n",
      "\n",
      "Epoch 00011: val_accuracy improved from 0.59262 to 0.60028, saving model to ./best_model.h5\n",
      "Epoch 12/20\n",
      "27273/27273 [==============================] - 237s 9ms/step - loss: 0.9812 - accuracy: 0.6350 - val_loss: 1.0618 - val_accuracy: 0.5919\n",
      "\n",
      "Epoch 00012: val_accuracy did not improve from 0.60028\n",
      "Epoch 13/20\n",
      "27273/27273 [==============================] - 238s 9ms/step - loss: 0.9583 - accuracy: 0.6449 - val_loss: 1.0680 - val_accuracy: 0.5919\n",
      "\n",
      "Epoch 00013: val_accuracy did not improve from 0.60028\n",
      "Epoch 14/20\n",
      "27273/27273 [==============================] - 300s 11ms/step - loss: 0.9323 - accuracy: 0.6548 - val_loss: 1.0472 - val_accuracy: 0.6052\n",
      "\n",
      "Epoch 00014: val_accuracy improved from 0.60028 to 0.60515, saving model to ./best_model.h5\n",
      "Restoring model weights from the end of the best epoch\n",
      "Epoch 00014: early stopping\n"
     ]
    }
   ],
   "source": [
    "model_hist = model.fit(x_train,y_train,batch_size=256,epochs=20,validation_split=0.05,shuffle=True,callbacks=callback)"
   ]
  },
  {
   "cell_type": "markdown",
   "metadata": {},
   "source": [
    "# Accuracy & Loss Plot"
   ]
  },
  {
   "cell_type": "markdown",
   "metadata": {},
   "source": [
    "1) Accuracy"
   ]
  },
  {
   "cell_type": "code",
   "execution_count": 33,
   "metadata": {},
   "outputs": [
    {
     "data": {
      "text/plain": [
       "<matplotlib.legend.Legend at 0x23f7a8130b8>"
      ]
     },
     "execution_count": 33,
     "metadata": {},
     "output_type": "execute_result"
    },
    {
     "data": {
      "image/png": "[encoded data removed]",
      "text/plain": [
       "<Figure size 432x288 with 1 Axes>"
      ]
     },
     "metadata": {
      "needs_background": "light"
     },
     "output_type": "display_data"
    }
   ],
   "source": [
    "plt.plot(model_hist.history['accuracy'],label=\"Accuracy\")\n",
    "plt.plot(model_hist.history['val_accuracy'],label=\"Validation Accuracy\")\n",
    "plt.legend()"
   ]
  },
  {
   "cell_type": "markdown",
   "metadata": {},
   "source": [
    "2) Loss"
   ]
  },
  {
   "cell_type": "code",
   "execution_count": 34,
   "metadata": {},
   "outputs": [
    {
     "data": {
      "text/plain": [
       "<matplotlib.legend.Legend at 0x23f7ad99860>"
      ]
     },
     "execution_count": 34,
     "metadata": {},
     "output_type": "execute_result"
    },
    {
     "data": {
      "image/png": "[encoded data removed]",
      "text/plain": [
       "<Figure size 432x288 with 1 Axes>"
      ]
     },
     "metadata": {
      "needs_background": "light"
     },
     "output_type": "display_data"
    }
   ],
   "source": [
    "plt.plot(model_hist.history['loss'],label=\"Loss\")\n",
    "plt.plot(model_hist.history['val_loss'],label=\"Validation Loss\")\n",
    "plt.legend()"
   ]
  },
  {
   "cell_type": "code",
   "execution_count": 35,
   "metadata": {},
   "outputs": [
    {
     "name": "stdout",
     "output_type": "stream",
     "text": [
      "28709/28709 [==============================] - 87s 3ms/step\n"
     ]
    },
    {
     "data": {
      "text/plain": [
       "[0.886953325650133, 0.6742833256721497]"
      ]
     },
     "execution_count": 35,
     "metadata": {},
     "output_type": "execute_result"
    }
   ],
   "source": [
    "model.evaluate(x_train,y_train)"
   ]
  },
  {
   "cell_type": "code",
   "execution_count": 36,
   "metadata": {},
   "outputs": [
    {
     "name": "stdout",
     "output_type": "stream",
     "text": [
      "3589/3589 [==============================] - 11s 3ms/step\n"
     ]
    },
    {
     "data": {
      "text/plain": [
       "[1.0932078417644888, 0.5837280750274658]"
      ]
     },
     "execution_count": 36,
     "metadata": {},
     "output_type": "execute_result"
    }
   ],
   "source": [
    "model.evaluate(x_test,y_test)"
   ]
  },
  {
   "cell_type": "code",
   "execution_count": 39,
   "metadata": {},
   "outputs": [],
   "source": [
    "preds = model.predict_classes(x_test)"
   ]
  },
  {
   "cell_type": "code",
   "execution_count": 40,
   "metadata": {},
   "outputs": [
    {
     "data": {
      "text/plain": [
       "array([6, 4, 0, ..., 3, 0, 6], dtype=int64)"
      ]
     },
     "execution_count": 40,
     "metadata": {},
     "output_type": "execute_result"
    }
   ],
   "source": [
    "preds"
   ]
  },
  {
   "cell_type": "code",
   "execution_count": 41,
   "metadata": {},
   "outputs": [
    {
     "name": "stdout",
     "output_type": "stream",
     "text": [
      "Predicted Emotion Happy\n"
     ]
    },
    {
     "data": {
      "image/png": "[encoded data removed]",
      "text/plain": [
       "<Figure size 432x288 with 1 Axes>"
      ]
     },
     "metadata": {
      "needs_background": "light"
     },
     "output_type": "display_data"
    }
   ],
   "source": [
    "print(\"Predicted Emotion\",Number_to_emotion[preds[234]])\n",
    "plt.imshow(x_test[234].reshape(48,48))\n",
    "plt.show()"
   ]
  },
  {
   "cell_type": "code",
   "execution_count": 42,
   "metadata": {},
   "outputs": [],
   "source": [
    "model = load_model(\"best_model.h5\")"
   ]
  },
  {
   "cell_type": "markdown",
   "metadata": {},
   "source": [
    "# Testing On Web Cam"
   ]
  },
  {
   "cell_type": "code",
   "execution_count": 1,
   "metadata": {},
   "outputs": [],
   "source": [
    "cap = cv2.VideoCapture(0)\n",
    "face_cascade = cv2.CascadeClassifier(\"haarcascade_frontalface_default.xml\")\n",
    "\n",
    "while True:\n",
    "    res,frame = cap.read()\n",
    "    \n",
    "    if res==False:\n",
    "        continue\n",
    "    \n",
    "    gray_frame = cv2.cvtColor(frame,cv2.COLOR_BGR2GRAY)\n",
    "    \n",
    "    faces = face_cascade.detectMultiScale(frame,1.2,5)\n",
    "    \n",
    "    if len(faces)==0:\n",
    "        for (x,y,w,h) in faces:\n",
    "            cv2.putText(frame,\"Processing\",(x,y-10),cv2.FONT_HERSHEY_COMPLEX,1,(255,0,0),2,cv2.LINE_AA)\n",
    "            \n",
    "            cv2.rectangle(frame,(x,y),(x+w,y+h),(255,0,0),2)\n",
    "    for face in faces:\n",
    "        x,y,w,h = face\n",
    "        \n",
    "        offset = 10\n",
    "        face_section = gray_frame[y-offset:y+h+offset,x-offset:x+w+offset]\n",
    "        \n",
    "        if (np.all(np.array(face_section.shape))):\n",
    "            face_section = cv2.resize(face_section,(48,48))\n",
    "            \n",
    "            pred = np.argmax(model.predict(face_section.reshape(1,48,48,1)))\n",
    "            label = Number_to_emotion[pred]\n",
    "            \n",
    "            cv2.putText(frame, label, (x,y-10), cv2.FONT_HERSHEY_COMPLEX,1,(255,30,0),2,cv2.LINE_AA)\n",
    "            cv2.rectangle(frame,(x,y),(x+w,y+h), (0,255,255),2)\n",
    "            \n",
    "    cv2.imshow(\"Emotion\",frame)\n",
    "    \n",
    "    key_pressed = cv2.waitKey(1)\n",
    "    \n",
    "    if key_pressed == ord(\"q\"):\n",
    "        break\n",
    "        \n",
    "cap.release()\n",
    "cv2.destroyAllWindows()"
   ]
  },
  {
   "cell_type": "code",
   "execution_count": 2,
   "metadata": {},
   "outputs": [],
   "source": [
    "Number_to_emotion = {0 :'Angry', 1 : 'Disgust', 2:'Fear', 3 :'Happy', 4:'Sad', 5:'Surprise', 6:'Neutral'}"
   ]
  },
  {
   "cell_type": "markdown",
   "metadata": {},
   "source": [
    "# Angry"
   ]
  },
  {
   "cell_type": "code",
   "execution_count": 18,
   "metadata": {},
   "outputs": [],
   "source": [
    "Angry = [\"Basket Case\",\"Don't Look Back in Anger\",\"Look Back in Anger\",\n",
    "           \"Misery Business\",\"Death on Two Legs\",\"Since U Been Gone\",\"St. Anger\",\"Break Stuff\",\"I Don't Care Anymore\"\n",
    "           ,\"I Hate Everything About You\",\"Platypus (I Hate You)\",\"Having a Blast\",\"Faint\",\"One Step Closer\"\n",
    "           ,\"Killing in the Name\",\"Angry Chair\",\"We're Not Gonna Take It\",\"Gives You Hell\",\"The Resistance\",\"Prison Song\"\n",
    "           ,\"Bad Habit\",\"It's not me It's you\",\"Better Than Revenge\",\"Angry Again\",\"Kill You\"]"
   ]
  },
  {
   "cell_type": "code",
   "execution_count": 19,
   "metadata": {},
   "outputs": [
    {
     "data": {
      "text/plain": [
       "25"
      ]
     },
     "execution_count": 19,
     "metadata": {},
     "output_type": "execute_result"
    }
   ],
   "source": [
    "len(Angry)"
   ]
  },
  {
   "cell_type": "markdown",
   "metadata": {},
   "source": [
    "# Disgust"
   ]
  },
  {
   "cell_type": "code",
   "execution_count": 22,
   "metadata": {},
   "outputs": [],
   "source": [
    "Disgust = [\"First Day Of School\",\"I'm Not The Only One\",\"Problem\",\"Before He Cheats\",\"Jar Of Hearts\",\n",
    "          \"Pumped Up Kicks\",\"Jealous\",\"Keeps Gettin' Better\",\"SuperGirl\",\"Since U Been Gone\",\"That's What You Get\",\n",
    "          \"Call Me When You're Sober\",\"Honey\", \"This Mirror Isn't Big Enough for the Two of Us\",\"Reject\",\"Unhappy Birthday-2011 Remaster\"\n",
    "          \"yes girl\",\"Cold Shoulder\",\"Boneyards\",\"Pretty On The Outside\",\"Still Don't Seem To Care\",\"I Hate Everything About You\",\n",
    "          \"Throw Yourself Away\",\"Jealous(I Ain't With It)\",\"Really Don't Care\",\"No Scrubs\"]"
   ]
  },
  {
   "cell_type": "code",
   "execution_count": 23,
   "metadata": {},
   "outputs": [
    {
     "data": {
      "text/plain": [
       "25"
      ]
     },
     "execution_count": 23,
     "metadata": {},
     "output_type": "execute_result"
    }
   ],
   "source": [
    "len(Disgust)"
   ]
  },
  {
   "cell_type": "markdown",
   "metadata": {},
   "source": [
    "# Fear"
   ]
  },
  {
   "cell_type": "code",
   "execution_count": 26,
   "metadata": {},
   "outputs": [],
   "source": [
    "Fear = [\"In My Blood\",\"Breathin\",\"Sober\",\"Save Myself\",\"Perfect\",\"Waving Through a Window\",\"Save My Soul\",\"Fake Happy\"\n",
    "       ,\"Head Above Water\",\"Heavy\",\"Fix You\",\"The Village\",\"Human\",\"Who You Are\",\"Diana\",\"Praying\",\"Let Your Tears Fall\",\n",
    "       \"Breathe Me\",\"Smoke & Mirrors\",\"Hard Times\",\"The Doctor Said\",\"Skyscraper\",\"The Lonely\",\"How to Save a Life\",\"Nobody's Home\"]"
   ]
  },
  {
   "cell_type": "code",
   "execution_count": 27,
   "metadata": {},
   "outputs": [
    {
     "data": {
      "text/plain": [
       "25"
      ]
     },
     "execution_count": 27,
     "metadata": {},
     "output_type": "execute_result"
    }
   ],
   "source": [
    "len(Fear)"
   ]
  },
  {
   "cell_type": "markdown",
   "metadata": {},
   "source": [
    "# Happy"
   ]
  },
  {
   "cell_type": "code",
   "execution_count": 32,
   "metadata": {},
   "outputs": [],
   "source": [
    "Happy = [\"Let’s Go Crazy\",\"Walking on Sunshine\",\"Tightrope\",\"Three Little Birds\",\"Lovely Day\",\"I Got You (I Feel Good)\"\n",
    "        ,\"Valerie\",\"Dancing Queen\",\"Uptown Funk\",\"Can’t Stop the Feeling\",\"Good as Hell\",\"Don’t Bring Me Down\",\n",
    "        \"One More Time\",\"It’s a Beautiful Morning\",\"You Make My Dreams\",\"Roobaroo\",\"Ilahi\",\"Rock On!\",\"Yun Hi Chala Chal Rahi\"\n",
    "        ,\"Badtameez Dil\",\"Tum Hi Ho Bandhu\",\"Balam Pichkari\",\"Mein Koi Aisa Geet Gaoon\",\"Chala Jata Hoon\",\"Dil Dhadakne Do\"]"
   ]
  },
  {
   "cell_type": "code",
   "execution_count": 33,
   "metadata": {},
   "outputs": [
    {
     "data": {
      "text/plain": [
       "25"
      ]
     },
     "execution_count": 33,
     "metadata": {},
     "output_type": "execute_result"
    }
   ],
   "source": [
    "len(Happy)"
   ]
  },
  {
   "cell_type": "markdown",
   "metadata": {},
   "source": [
    "# Sad"
   ]
  },
  {
   "cell_type": "code",
   "execution_count": 34,
   "metadata": {},
   "outputs": [],
   "source": [
    "Sad = ['When We Were Young','Beyond',\"I'm On Fire\",'Somebody Else','Homesick','How Will I Know','From the Dining Table',\n",
    "      \"Nothing's Gonna Hurt You Baby\",'ILYSB','Right Now','Wonderful Tonight',\"River\",\"Dancing on My Own\",\"Slow Burn\"\n",
    "      ,\"Be Alright\",\"Kabira\",\"Agar Tum Saath Ho\",\"Mana Ke Hum Yaar Nahi\",\"Channa Mereya\",\"Phir Le Aaya Dil\",\"Main Rahoon Ya Na Rahoon\"\n",
    "      ,\"Humdard\",\"Bulleya\",\"Tujhe Bhula Diya\",\"Yeh Dooriyan\"]"
   ]
  },
  {
   "cell_type": "code",
   "execution_count": 35,
   "metadata": {},
   "outputs": [
    {
     "data": {
      "text/plain": [
       "25"
      ]
     },
     "execution_count": 35,
     "metadata": {},
     "output_type": "execute_result"
    }
   ],
   "source": [
    "len(Sad)"
   ]
  },
  {
   "cell_type": "markdown",
   "metadata": {},
   "source": [
    "# Surprise"
   ]
  },
  {
   "cell_type": "code",
   "execution_count": 40,
   "metadata": {},
   "outputs": [],
   "source": [
    "Surprise = [\"My Way\",\"With a Little Help From My Friends\",\"Doesn’t Make It Alright\",\"Jealous Guy\",\"Money (That’s What I Want)\",\n",
    "           \"The Sound of Silence\",\"Comfortably Numb\",\"Hurt\",\"A Hard Rains a-Gonna Fall\",\"Satisfaction\",\"Georgia On My Mind\"\n",
    "           ,\"House of the Rising Sun\",\"Light My Fire\",\"War\",\"My Sweet Lord\",\"Family Affair\",\"Theme from Shaft\",\"When Doves Cry\"\n",
    "           ,\"Money For Nothing\",\"A Whole New World\",\"Candle in the Wind\",\"Mo Money Mo Problems\",\"Fallin’\",\"Slow Jamz\",\"Rolling in the Deep\"]"
   ]
  },
  {
   "cell_type": "code",
   "execution_count": 41,
   "metadata": {},
   "outputs": [
    {
     "data": {
      "text/plain": [
       "25"
      ]
     },
     "execution_count": 41,
     "metadata": {},
     "output_type": "execute_result"
    }
   ],
   "source": [
    "len(Surprise)"
   ]
  },
  {
   "cell_type": "markdown",
   "metadata": {},
   "source": [
    "# Neutral"
   ]
  },
  {
   "cell_type": "code",
   "execution_count": 46,
   "metadata": {},
   "outputs": [],
   "source": [
    "Neutral = [\"See You Again\",\"Sorry\",\"Uptown Funk\",\"Blank Space\",\"Shake It Off\",\"Despacito\",\"Lean On\",\"Hello\",\"Roar\",\n",
    "          \"Sugar\",\"All About That Bass\",\"Baby\",\"Love Me Like You Do\",\"Waka Waka\",\"Summer Of 69\",\"Lakshya\",\"Kandhon Se Milte Hain Kandhe\"\n",
    "          ,\"BESABRIYAAN\",\"Aaj Kal Zindagi\",\"Kun Faya Kun\",\"Salaam India\",\"Chak De India\",\"Badal Pe Paon Hain\",\"All Izz Well\",\"Chak Lein De\"]"
   ]
  },
  {
   "cell_type": "code",
   "execution_count": null,
   "metadata": {},
   "outputs": [],
   "source": [
    "Number_to_emotion = {0 :'Angry 😡', 1 : 'Disgust 🤢', 2:'Fear 😰', 3 :'Happy 🤣', 4:'Sad 😭', 5:'Surprise 😱', 6:'Neutral 🙂'}"
   ]
  },
  {
   "cell_type": "code",
   "execution_count": 47,
   "metadata": {},
   "outputs": [
    {
     "data": {
      "text/plain": [
       "25"
      ]
     },
     "execution_count": 47,
     "metadata": {},
     "output_type": "execute_result"
    }
   ],
   "source": [
    "len(Neutral)"
   ]
  },
  {
   "cell_type": "code",
   "execution_count": 48,
   "metadata": {},
   "outputs": [],
   "source": [
    "Emotion_Based_Songs = {\"Angry 😡\":Angry,\"Disgust 🤢\":Disgust,\"Fear 😰\":Fear,\"Happy 🤣\":Happy,\"Sad 😭\":Sad,\"Surprise 😱\":Surprise,\"Neutral 🙂\":Neutral}"
   ]
  },
  {
   "cell_type": "code",
   "execution_count": 55,
   "metadata": {},
   "outputs": [
    {
     "data": {
      "text/plain": [
       "7"
      ]
     },
     "execution_count": 55,
     "metadata": {},
     "output_type": "execute_result"
    }
   ],
   "source": [
    "len(Emotion_Based_Songs)"
   ]
  },
  {
   "cell_type": "code",
   "execution_count": 78,
   "metadata": {},
   "outputs": [],
   "source": [
    "SongList = Emotion_Based_Songs[\"Angry 😡\"]"
   ]
  },
  {
   "cell_type": "code",
   "execution_count": 81,
   "metadata": {},
   "outputs": [
    {
     "name": "stdout",
     "output_type": "stream",
     "text": [
      "One Step Closer\n"
     ]
    }
   ],
   "source": [
    "print(np.random.choice(SongList,1, p=(0.05, 0.05, 0.05, 0.05, 0.05,0.05,0.05,0.05,0.05,0.05,0.05,0.05,0.05,0.05,0.05,0.05,0.05,0.05,0.03,0.02,0.01,0.01,0.01,0.01,0.01))[0])"
   ]
  },
  {
   "cell_type": "code",
   "execution_count": null,
   "metadata": {},
   "outputs": [],
   "source": []
  },
  {
   "cell_type": "code",
   "execution_count": 71,
   "metadata": {},
   "outputs": [],
   "source": [
    "p=(0.05, 0.05, 0.05, 0.05, 0.05,0.05,0.05,0.05,0.05,0.05,0.05,0.05,0.05,0.05,0.05,0.05,0.05,0.05,0.03,0.02,0.01,0.01,0.01,0.01,0.01)"
   ]
  },
  {
   "cell_type": "code",
   "execution_count": 72,
   "metadata": {},
   "outputs": [
    {
     "data": {
      "text/plain": [
       "1.0"
      ]
     },
     "execution_count": 72,
     "metadata": {},
     "output_type": "execute_result"
    }
   ],
   "source": [
    "np.sum(p)"
   ]
  },
  {
   "cell_type": "code",
   "execution_count": 51,
   "metadata": {},
   "outputs": [
    {
     "data": {
      "text/plain": [
       "24"
      ]
     },
     "execution_count": 51,
     "metadata": {},
     "output_type": "execute_result"
    }
   ],
   "source": [
    "len(cum_weights)"
   ]
  },
  {
   "cell_type": "code",
   "execution_count": null,
   "metadata": {},
   "outputs": [],
   "source": []
  }
 ],
 "metadata": {
  "kernelspec": {
   "display_name": "Python 3",
   "language": "python",
   "name": "python3"
  },
  "language_info": {
   "codemirror_mode": {
    "name": "ipython",
    "version": 3
   },
   "file_extension": ".py",
   "mimetype": "text/x-python",
   "name": "python",
   "nbconvert_exporter": "python",
   "pygments_lexer": "ipython3",
   "version": "3.6.10"
  }
 },
 "nbformat": 4,
 "nbformat_minor": 4
}
